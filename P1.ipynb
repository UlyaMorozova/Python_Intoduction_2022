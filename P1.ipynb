{
 "cells": [
  {
   "cell_type": "code",
   "execution_count": 1,
   "id": "a6c056e6",
   "metadata": {},
   "outputs": [
    {
     "name": "stdout",
     "output_type": "stream",
     "text": [
      "Прежде чем люди научились говорить, они молчали. Когда наконец свободно овладели языком, молчание никуда не делось.  Пока люди будут молчать, я буду жить.  Мне не нужны подношения. Мне не надо строить храмы и возносить молитвы. Мне хватит и того, что вы молчите.\n",
      "Counter({' ': 43, 'о': 26, 'и': 19, 'н': 19, 'е': 15, 'т': 13, 'д': 12, 'л': 12, 'а': 12, 'м': 8, 'ч': 7, 'у': 7, 'ь': 7, 'в': 7, '.': 6, 'с': 5, 'ы': 5, 'р': 4, ',': 4, 'к': 4, 'ж': 3, 'г': 3, 'б': 3, 'я': 3, 'М': 3, 'П': 2, 'ю': 2, 'з': 2, 'х': 2, 'К': 1, 'ц': 1, 'п': 1, 'ш': 1})\n"
     ]
    }
   ],
   "source": [
    "# Статитсика всех символов текста\n",
    "\n",
    "from collections import Counter\n",
    "\n",
    "text = input()\n",
    "# ввод текста \n",
    "\n",
    "static = Counter(text)\n",
    "\n",
    "print(str(static))\n",
    "\n"
   ]
  },
  {
   "cell_type": "code",
   "execution_count": 5,
   "id": "3b3adc02",
   "metadata": {},
   "outputs": [
    {
     "name": "stdout",
     "output_type": "stream",
     "text": [
      "Прежде чем люди научились говорить, они молчали. Когда наконец свободно овладели языком, молчание никуда не делось.  Пока люди будут молчать, я буду жить.  Мне не нужны подношения. Мне не надо строить храмы и возносить молитвы. Мне хватит и того, что вы молчите.\n",
      "н\n",
      "Количество символов н: 19\n"
     ]
    }
   ],
   "source": [
    "# Статистика одного символа\n",
    "\n",
    "text = input()\n",
    "# ввод текста \n",
    "\n",
    "ch = input()\n",
    "static = text.count(ch)\n",
    "\n",
    "print(\"Количество символов \" + ch + \": \" + str(static))\n"
   ]
  },
  {
   "cell_type": "code",
   "execution_count": null,
   "id": "9215e374",
   "metadata": {},
   "outputs": [],
   "source": []
  }
 ],
 "metadata": {
  "kernelspec": {
   "display_name": "Python 3 (ipykernel)",
   "language": "python",
   "name": "python3"
  },
  "language_info": {
   "codemirror_mode": {
    "name": "ipython",
    "version": 3
   },
   "file_extension": ".py",
   "mimetype": "text/x-python",
   "name": "python",
   "nbconvert_exporter": "python",
   "pygments_lexer": "ipython3",
   "version": "3.9.12"
  }
 },
 "nbformat": 4,
 "nbformat_minor": 5
}
