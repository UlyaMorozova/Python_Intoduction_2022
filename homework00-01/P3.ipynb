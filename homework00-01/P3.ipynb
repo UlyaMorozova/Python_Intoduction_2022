{
 "cells": [
  {
   "cell_type": "code",
   "execution_count": 35,
   "id": "371d0424",
   "metadata": {},
   "outputs": [
    {
     "name": "stdout",
     "output_type": "stream",
     "text": [
      "LXFOPVEFRNHR ATTACKATDAWN\n"
     ]
    }
   ],
   "source": [
    "def encrypt_vigenere(plaintext: str, keyword: str) -> str:\n",
    "    \"\"\"\n",
    "    Encrypts plaintext using a Vigenere cipher.\n",
    "\n",
    "    >>> encrypt_vigenere(\"PYTHON\", \"A\")\n",
    "    'PYTHON'\n",
    "    >>> encrypt_vigenere(\"python\", \"a\")\n",
    "    'python'\n",
    "    >>> encrypt_vigenere(\"ATTACKATDAWN\", \"LEMON\")\n",
    "    'LXFOPVEFRNHR'\n",
    "    \"\"\"\n",
    "    ciphertext = \"\"\n",
    "    Len = len(plaintext)\n",
    "    while len(keyword) != Len:\n",
    "        a = Len - len(keyword)\n",
    "        if a >= len(keyword):\n",
    "            keyword *= 2\n",
    "        else:\n",
    "            keyword += keyword[:a]\n",
    "    keyword = keyword.upper()\n",
    "    for i in range(len(plaintext)):\n",
    "        shift = ord(keyword[i]) - 65\n",
    "        p = ord(plaintext[i])\n",
    "        p += shift\n",
    "        if p > 122:\n",
    "            p -= 26\n",
    "        elif p > 90:\n",
    "            p -= 26\n",
    "        ciphertext += chr(p)\n",
    "    return ciphertext\n",
    "\n",
    "\n",
    "def decrypt_vigenere(ciphertext: str, keyword: str) -> str:\n",
    "    \"\"\"\n",
    "    Decrypts a ciphertext using a Vigenere cipher.\n",
    "\n",
    "    >>> decrypt_vigenere(\"PYTHON\", \"A\")\n",
    "    'PYTHON'\n",
    "    >>> decrypt_vigenere(\"python\", \"a\")\n",
    "    'python'\n",
    "    >>> decrypt_vigenere(\"LXFOPVEFRNHR\", \"LEMON\")\n",
    "    'ATTACKATDAWN'\n",
    "    \"\"\"\n",
    "    plaintext = \"\"\n",
    "    Len = len(ciphertext)\n",
    "    while len(keyword) != Len:\n",
    "        a = Len - len(keyword)\n",
    "        if a >= len(keyword):\n",
    "            keyword *= 2\n",
    "        else:\n",
    "            keyword += keyword[:a]\n",
    "    keyword = keyword.upper()\n",
    "    for i in range(len(ciphertext)):\n",
    "        shift = ord(keyword[i]) - 65\n",
    "        p = ord(ciphertext[i])\n",
    "        p -= shift\n",
    "        if p < 65:\n",
    "            p += 26\n",
    "        if p > 90 and p < 97:\n",
    "            p += 26\n",
    "        plaintext += chr(p)\n",
    "    return plaintext\n",
    "\n",
    "ex1 = encrypt_vigenere(\"ATTACKATDAWN\", \"LEMON\")\n",
    "ex2 = decrypt_vigenere(\"LXFOPVEFRNHR\", \"LEMON\")\n",
    "print(ex1, ex2)\n"
   ]
  },
  {
   "cell_type": "code",
   "execution_count": null,
   "id": "2f3c9aa5",
   "metadata": {},
   "outputs": [],
   "source": []
  },
  {
   "cell_type": "code",
   "execution_count": null,
   "id": "1b7820b1",
   "metadata": {},
   "outputs": [],
   "source": []
  }
 ],
 "metadata": {
  "kernelspec": {
   "display_name": "Python 3 (ipykernel)",
   "language": "python",
   "name": "python3"
  },
  "language_info": {
   "codemirror_mode": {
    "name": "ipython",
    "version": 3
   },
   "file_extension": ".py",
   "mimetype": "text/x-python",
   "name": "python",
   "nbconvert_exporter": "python",
   "pygments_lexer": "ipython3",
   "version": "3.9.12"
  }
 },
 "nbformat": 4,
 "nbformat_minor": 5
}
