{
 "cells": [
  {
   "cell_type": "code",
   "execution_count": 2,
   "id": "c4566047",
   "metadata": {},
   "outputs": [
    {
     "data": {
      "text/plain": [
       "['j', 'h', 'f', 'k', 'e', 'f', 'j', 'l', 'k', 'n']"
      ]
     },
     "execution_count": 2,
     "metadata": {},
     "output_type": "execute_result"
    }
   ],
   "source": [
    "list('jhfkefjlkn')"
   ]
  },
  {
   "cell_type": "code",
   "execution_count": 27,
   "id": "d1c033aa",
   "metadata": {},
   "outputs": [
    {
     "name": "stdout",
     "output_type": "stream",
     "text": [
      "sbwkrq Python3.6\n"
     ]
    }
   ],
   "source": [
    "from asyncio.proactor_events import _ProactorDuplexPipeTransport\n",
    "from pydoc import plain\n",
    "\n",
    "\n",
    "def encrypt_caesar(plaintext: str, shift: int = 3) -> str:\n",
    "    \"\"\"\n",
    "    Encrypts plaintext using a Caesar cipher.\n",
    "\n",
    "    >>> encrypt_caesar(\"PYTHON\")\n",
    "    'SBWKRQ'\n",
    "    >>> encrypt_caesar(\"python\")\n",
    "    'sbwkrq'\n",
    "    >>> encrypt_caesar(\"Python3.6\")\n",
    "    'Sbwkrq3.6'\n",
    "    >>> encrypt_caesar(\"\")\n",
    "    ''\n",
    "    \"\"\"\n",
    "    ciphertext = \"\"\n",
    "    a = \"\"\n",
    "    k = \"\"\n",
    "    if plaintext == plaintext.lower():\n",
    "        plaintext = plaintext.upper()\n",
    "        k = 1\n",
    "    elif plaintext == plaintext.capitalize():\n",
    "        plaintext = plaintext.upper()\n",
    "        k = 0\n",
    "    for i in range(len(plaintext)):\n",
    "        a = ord(plaintext[i])\n",
    "        if a >= 65 and a < 91:\n",
    "            a += shift\n",
    "            if a > 90:\n",
    "                a -= 26\n",
    "        elif a >= 91:\n",
    "            a += shift\n",
    "        ciphertext += chr(a)\n",
    "    if k:\n",
    "        ciphertext = ciphertext.lower()\n",
    "    elif k == 0:\n",
    "        ciphertext = ciphertext.capitalize()\n",
    "    return ciphertext\n",
    "\n",
    "\n",
    "def decrypt_caesar(ciphertext: str, shift: int = 3) -> str:\n",
    "    \"\"\"\n",
    "    Decrypts a ciphertext using a Caesar cipher.\n",
    "\n",
    "    >>> decrypt_caesar(\"SBWKRQ\")\n",
    "    'PYTHON'\n",
    "    >>> decrypt_caesar(\"sbwkrq\")\n",
    "    'python'\n",
    "    >>> decrypt_caesar(\"Sbwkrq3.6\")\n",
    "    'Python3.6'\n",
    "    >>> decrypt_caesar(\"\")\n",
    "    ''\n",
    "    \"\"\"\n",
    "    plaintext = \"\"\n",
    "    a = \"\"\n",
    "    k = \"\"\n",
    "    if ciphertext == ciphertext.lower():\n",
    "        ciphertext = ciphertext.upper()\n",
    "        k = 1\n",
    "    elif ciphertext == ciphertext.capitalize():\n",
    "        ciphertext = ciphertext.upper()\n",
    "        k = 0\n",
    "    for i in range(len(ciphertext)):\n",
    "        a = ord(ciphertext[i])\n",
    "        if a >= 65:\n",
    "            a -= shift\n",
    "            if a < 65:\n",
    "                a += 26\n",
    "        plaintext += chr(a)\n",
    "    if k:\n",
    "        plaintext = plaintext.lower()\n",
    "    elif k == 0:\n",
    "        plaintext = plaintext.capitalize()\n",
    "    return plaintext\n",
    "\n",
    "ex = encrypt_caesar(\"python_xz\")\n",
    "ex2 = decrypt_caesar('Sbwkrq3.6')\n",
    "print(ex, ex2)"
   ]
  },
  {
   "cell_type": "code",
   "execution_count": 13,
   "id": "e2d995c1",
   "metadata": {},
   "outputs": [
    {
     "data": {
      "text/plain": [
       "120"
      ]
     },
     "execution_count": 13,
     "metadata": {},
     "output_type": "execute_result"
    }
   ],
   "source": [
    "ord('x')"
   ]
  },
  {
   "cell_type": "code",
   "execution_count": 15,
   "id": "5ca1d760",
   "metadata": {},
   "outputs": [
    {
     "data": {
      "text/plain": [
       "'{'"
      ]
     },
     "execution_count": 15,
     "metadata": {},
     "output_type": "execute_result"
    }
   ],
   "source": [
    "chr(123)"
   ]
  },
  {
   "cell_type": "code",
   "execution_count": null,
   "id": "f8de23f6",
   "metadata": {},
   "outputs": [],
   "source": []
  }
 ],
 "metadata": {
  "kernelspec": {
   "display_name": "Python 3 (ipykernel)",
   "language": "python",
   "name": "python3"
  },
  "language_info": {
   "codemirror_mode": {
    "name": "ipython",
    "version": 3
   },
   "file_extension": ".py",
   "mimetype": "text/x-python",
   "name": "python",
   "nbconvert_exporter": "python",
   "pygments_lexer": "ipython3",
   "version": "3.9.12"
  }
 },
 "nbformat": 4,
 "nbformat_minor": 5
}
