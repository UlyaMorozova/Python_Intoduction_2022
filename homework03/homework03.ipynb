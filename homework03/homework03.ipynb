{
 "cells": [
  {
   "cell_type": "code",
   "execution_count": 1,
   "id": "e22eae9a",
   "metadata": {},
   "outputs": [],
   "source": [
    "from PIL import Image\n",
    "import numpy as np"
   ]
  },
  {
   "cell_type": "markdown",
   "id": "847d5de6",
   "metadata": {},
   "source": [
    "Импортируем библиотеки для работы с изображением"
   ]
  },
  {
   "cell_type": "code",
   "execution_count": 6,
   "id": "6298744d",
   "metadata": {},
   "outputs": [],
   "source": [
    "image = Image.open('miku.jpg')"
   ]
  },
  {
   "cell_type": "markdown",
   "id": "085d654a",
   "metadata": {},
   "source": [
    "Указываем изображением, с которым будем работать"
   ]
  },
  {
   "cell_type": "code",
   "execution_count": 7,
   "id": "230c3cb5",
   "metadata": {},
   "outputs": [],
   "source": [
    "x = np.array(image, dtype = np.float32)\n",
    "red = x[:,:,0]\n",
    "green = x[:,:,1]\n",
    "blue = x[:,:,2]"
   ]
  },
  {
   "cell_type": "markdown",
   "id": "189de256",
   "metadata": {},
   "source": [
    "Создаем наш массив для работы с цветовыми каналами RGB"
   ]
  },
  {
   "cell_type": "code",
   "execution_count": 9,
   "id": "4b676719",
   "metadata": {},
   "outputs": [
    {
     "name": "stdout",
     "output_type": "stream",
     "text": [
      "(1261, 2048, 3)\n"
     ]
    }
   ],
   "source": [
    "U_red, S_red, V_red = np.linalg.svd(red, full_matrices = False)\n",
    "U_green, S_green, V_green = np.linalg.svd(green, full_matrices = False)\n",
    "U_blue, S_blue, V_blue = np.linalg.svd(blue, full_matrices = False)\n",
    "print(x.shape)"
   ]
  },
  {
   "cell_type": "markdown",
   "id": "5f6e6202",
   "metadata": {},
   "source": [
    "И делаем SVD разложение по цветам"
   ]
  },
  {
   "cell_type": "code",
   "execution_count": 11,
   "id": "dcc666ea",
   "metadata": {},
   "outputs": [],
   "source": [
    "for i in range(1,400,40):\n",
    "    Y_i_red = U_red[:,:i].dot(np.diag(S_red[:i])).dot(V_red[:i,:]) \n",
    "    Y_i_red[Y_i_red < 0] = 0\n",
    "    Y_i_red[Y_i_red > 255] = 255\n",
    "    Y_i_red = Y_i_red.reshape(1261, 2048, 1)\n",
    "    Y_i_green = U_green[:,:i].dot(np.diag(S_green[:i])).dot(V_green[:i,:]) \n",
    "    Y_i_green[Y_i_green < 0] = 0\n",
    "    Y_i_green[Y_i_green > 255] = 255\n",
    "    Y_i_green = Y_i_green.reshape(1261, 2048, 1)\n",
    "    Y_i_blue = U_blue[:,:i].dot(np.diag(S_blue[:i])).dot(V_blue[:i,:]) \n",
    "    Y_i_blue[Y_i_blue < 0] = 0\n",
    "    Y_i_blue[Y_i_blue > 255] = 255\n",
    "    Y_i_blue = Y_i_blue.reshape(1261, 2048, 1)\n",
    "    Y_i = np.concatenate((np.concatenate((Y_i_red, Y_i_green), axis = 2), Y_i_blue), axis = 2)\n",
    "    Image.fromarray(np.asarray(Y_i, dtype = np.uint8)).save(f'{i}.jpg')"
   ]
  },
  {
   "cell_type": "markdown",
   "id": "03251742",
   "metadata": {},
   "source": [
    "И создаем цикл преобразования нашей картинки, путем преобразования наших матриц и сохранения их в отдельные картинки"
   ]
  }
 ],
 "metadata": {
  "kernelspec": {
   "display_name": "Python 3 (ipykernel)",
   "language": "python",
   "name": "python3"
  },
  "language_info": {
   "codemirror_mode": {
    "name": "ipython",
    "version": 3
   },
   "file_extension": ".py",
   "mimetype": "text/x-python",
   "name": "python",
   "nbconvert_exporter": "python",
   "pygments_lexer": "ipython3",
   "version": "3.9.12"
  }
 },
 "nbformat": 4,
 "nbformat_minor": 5
}
